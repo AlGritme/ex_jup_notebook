{
  "metadata": {
    "kernelspec": {
      "name": "python",
      "display_name": "Python (Pyodide)",
      "language": "python"
    },
    "language_info": {
      "codemirror_mode": {
        "name": "python",
        "version": 3
      },
      "file_extension": ".py",
      "mimetype": "text/x-python",
      "name": "python",
      "nbconvert_exporter": "python",
      "pygments_lexer": "ipython3",
      "version": "3.8"
    }
  },
  "nbformat_minor": 5,
  "nbformat": 4,
  "cells": [
    {
      "id": "7d24b5dc-5e86-47ea-949b-a9df1f1907ac",
      "cell_type": "markdown",
      "source": "# __Creation of the JupyterLite notebook__",
      "metadata": {}
    },
    {
      "id": "f6051487-d622-4922-b029-18e61bd7a96c",
      "cell_type": "markdown",
      "source": "## __Introduction__",
      "metadata": {}
    },
    {
      "id": "60772664-2fee-4c3a-9d67-b313b8997b2e",
      "cell_type": "markdown",
      "source": "### __Enumeration of the different languages in data science__",
      "metadata": {}
    },
    {
      "id": "1113ac25-902b-4a23-ac21-694c8b33e9e9",
      "cell_type": "markdown",
      "source": "* *PYTHON*\n* *R*\n* *SQL*\n* *SCALA*\n* *JAVA*\n* *C++*\n* *JULIA*\n* *JAVASCRIPT*\n",
      "metadata": {}
    },
    {
      "id": "b9acce2e-14c5-4585-bdc3-a5eea9feffcc",
      "cell_type": "markdown",
      "source": "### Enumeration of data science libraries",
      "metadata": {}
    },
    {
      "id": "32371504-a922-4e18-adda-269007c3fa3d",
      "cell_type": "markdown",
      "source": "* *pandas*\n* *Numpy*\n* *Scipy*\n* *Matplotlib*\n* *Seaborn*\n* *Plotly*\n* *Bokeh*\n* *Scikit-learn*\n* *TensorFlow*\n* *keras*\n* *PyTorch*\n* *XGBoost*\n* *NLTK*\n* *spaCy*\n* *dplyr*\n* *tidyr*\n* *readr*\n* *data.table*\n* *ggplot2*\n* *JuliaDB*\n* *Apache Spark*\n* *Hadoop*",
      "metadata": {}
    },
    {
      "id": "be1a403e-c7df-4af5-aceb-124a060a834a",
      "cell_type": "markdown",
      "source": "### Data science table tools",
      "metadata": {}
    },
    {
      "id": "a5be2355-b83d-4f7c-b20b-7075e71624c1",
      "cell_type": "markdown",
      "source": "| Category       |                          Main tools                              |\n|----------------|------------------------------------------------------------------|\n| Data Managment | MySQL, PostgreSQL, MongoDB, IBM Db2, Oracle, Microsoft SQL Server| \n| Data Integration & transformation | Apache Airflow, Apache NiFi, Apache Kafka, Talend, Node-RED, IBM DataStage| \n| Data Visualization | Tableau, Power BI, Kibana, Apache Superset, PixieDust, ggplot2, Matplotlib| \n| Model Building (ML/AI)  | Scikit-learn, TensorFlow, Keras, PyTorch, SPSS Modeler, SAS Enterprise Miner|\n| Model Deployment | MLflow, TensorFlow Serving, Seldon, Kubernetes, Red Hat OpenShift, IBM Watson Machine Learning|\n| Model Monitoring & Evaluation| ModelDB, Prometheus, Fiddler, IBM AI Fairness 360, AIX 360, Adversarial Robustness 360|\n| Data Asset Management| Apache Atlas, Informatica, Kylo, ODPi Egeria|\n| Source Code Management  | Git, GitHub, GitLab, Bitbucket|\n| Interactive Environments | Jupyter Notebook, JupyterLab, RStudio, Google Colab, Watson Studio|",
      "metadata": {}
    },
    {
      "id": "fb142401-1aef-4ef1-89ad-74b3cbc629df",
      "cell_type": "markdown",
      "source": "### Arithmetic Operations",
      "metadata": {}
    },
    {
      "id": "04fb4386-7c6e-4e99-b6f2-2eff618c000a",
      "cell_type": "markdown",
      "source": "| Operation |  Symbol | Example | Result |\n|-----------|---------|---------|--------|\n|Addition|\"+\"|\"6 + 2\"| \"8\" |\n|Subtraction|\"-\"|\"6 - 2\"| \"4\" |\n|Multiplication|\"*\"|\"6 * 2\"| \"12\" |\n|Division|\"/\"|\"6 / 2\"| \"3\" |\n|Intger division|\"//\"|\"9 // 2\"| \"4\" |\n|Modulo|\"%\"|\"9 % 2\"| \"1\" |\n|Exponentiation|\"**\"|\"6 ** 2\"| \"36\" |",
      "metadata": {}
    },
    {
      "id": "385413ed-9091-4cd9-acbd-94cb90fbb808",
      "cell_type": "code",
      "source": "# Multiplication\n\nmult = 5 * 3\n\n# Addition\n\nadd = mult + 3\n\nprint(\"Multiplication =\", mult, \"and addition =\", add)",
      "metadata": {
        "trusted": true
      },
      "outputs": [
        {
          "name": "stdout",
          "output_type": "stream",
          "text": "Multiplication = 15 and addition = 18\n"
        }
      ],
      "execution_count": 6
    },
    {
      "id": "12bdecc4-0896-45fa-a646-6be1230d1cbb",
      "cell_type": "code",
      "source": "# For minutes to houres\ndef miuntes_to_houres(mint):\n    hour = 60\n    result = mint / hour\n    return print(\"It's\", result, \"houres\")\n",
      "metadata": {
        "trusted": true
      },
      "outputs": [],
      "execution_count": 23
    },
    {
      "id": "83d9da8f-c4a1-40e2-947d-ed777b8d09af",
      "cell_type": "code",
      "source": "miuntes_to_houres(69)",
      "metadata": {
        "trusted": true
      },
      "outputs": [
        {
          "name": "stdout",
          "output_type": "stream",
          "text": "It's 1.15 houres\n"
        }
      ],
      "execution_count": 25
    },
    {
      "id": "d3d62984-ca4b-45ea-b7c9-eb8547b7d95b",
      "cell_type": "markdown",
      "source": "## Alan Blanca",
      "metadata": {}
    }
  ]
}